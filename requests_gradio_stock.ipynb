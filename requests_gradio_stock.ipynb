{
  "nbformat": 4,
  "nbformat_minor": 0,
  "metadata": {
    "colab": {
      "name": "requests_gradio_stock.ipynb",
      "provenance": [],
      "authorship_tag": "ABX9TyNzWlogSgDUjBvUhtuDSTRm",
      "include_colab_link": true
    },
    "kernelspec": {
      "name": "python3",
      "display_name": "Python 3"
    },
    "language_info": {
      "name": "python"
    }
  },
  "cells": [
    {
      "cell_type": "markdown",
      "metadata": {
        "id": "view-in-github",
        "colab_type": "text"
      },
      "source": [
        "<a href=\"https://colab.research.google.com/github/hsnam95/class2022Spring/blob/main/requests_gradio_stock.ipynb\" target=\"_parent\"><img src=\"https://colab.research.google.com/assets/colab-badge.svg\" alt=\"Open In Colab\"/></a>"
      ]
    },
    {
      "cell_type": "code",
      "source": [
        "!pip install gradio\n",
        "import gradio as gr\n",
        "import requests\n",
        "import pandas as pd"
      ],
      "metadata": {
        "id": "8eZHGJhmqd9a"
      },
      "execution_count": null,
      "outputs": []
    },
    {
      "cell_type": "code",
      "source": [
        "# basDt - 검색값과 기준일자가 일치하는 데이터를 검색 e.g. 20220331\n",
        "# beginBasDt - 기준일자가 검색값보다 크거나 같은 데이터를 검색\n",
        "# endBasDt - 기준일자가 검색값보다 작은 데이터를 검색\n",
        "# likeBasDt - 기준일자값이 검색값을 포함하는 데이터를 검색\n",
        "# likeSrtnCd - 단축코드가 검색값을 포함하는 데이터를 검색 e.g. 279600\n",
        "# isinCd - 검색값과 ISIN코드이 일치하는 데이터를 검색 e.g. KR7279600001\n",
        "# likeIsinCd - ISIN코드가 검색값을 포함하는 데이터를 검색\n",
        "# itmsNm - 검색값과 종목명이 일치하는 데이터를 검색 e.g. 미디어젠\n",
        "# likeItmsNm - 종목명이 검색값을 포함하는 데이터를 검색\n",
        "# mrktCls - 검색값과 시장구분이 일치하는 데이터를 검색 e.g. KOSDAQ\n",
        "# beginVs - 대비가 검색값보다 크거나 같은 데이터를 검색 e.g. 0\n",
        "# endVs - 대비가 검색값보다 작은 데이터를 검색\n",
        "# beginFltRt - 등락률이 검색값보다 크거나 같은 데이터를 검색 e.g. 0\n",
        "# endFltRt - 등락률이 검색값보다 작은 데이터를 검색\n",
        "# beginTrqu - 거래량이 검색값보다 크거나 같은 데이터를 검색 e.g. 8012\n",
        "# endTrqu - 거래량이 검색값보다 작은 데이터를 검색\n",
        "# beginTrPrc - 거래대금이 검색값보다 크거나 같은 데이터를 검색 e.g. 100745550\n",
        "# endTrPrc - 거래대금이 검색값보다 작은 데이터를 검색\n",
        "# beginLstgStCnt - 상장주식수가 검색값보다 크거나 같은 데이터를 검색 e.g. 4684781\n",
        "# endLstgStCnt - 상장주식수가 검색값보다 작은 데이터를 검색\n",
        "# beginMrktTotAmt - 시가총액이 검색값보다 크거나 같은 데이터를 검색 e.g. 59262479650\n",
        "# endMrktTotAmt - 시가총액이 검색값보다 작은 데이터를 검색\n",
        "\n",
        "# {'response': {'body': {'items': {'item': [{'basDt': '20220331',\n",
        "#       'clpr': '12650',\n",
        "#       'fltRt': '0',\n",
        "#       'hipr': '12700',\n",
        "#       'isinCd': 'KR7279600001',\n",
        "#       'itmsNm': '미디어젠',\n",
        "#       'lopr': '12450',\n",
        "#       'lstgStCnt': '4684781',\n",
        "#       'mkp': '12650',\n",
        "#       'mrktCtg': 'KOSDAQ',\n",
        "#       'mrktTotAmt': '59262479650',\n",
        "#       'srtnCd': '279600',\n",
        "#       'trPrc': '100745550',\n",
        "#       'trqu': '8012',\n",
        "#       'vs': '0'}]},\n",
        "#    'numOfRows': 1,\n",
        "#    'pageNo': 1,\n",
        "#    'totalCount': 555},\n",
        "#   'header': {'resultCode': '00', 'resultMsg': 'NORMAL SERVICE.'}}}\n",
        "\n",
        "URL = ('https://api.odcloud.kr/api/GetStockSecuritiesInfoService/v1/getStockPriceInfo?'\n",
        "       'resultType=json'\n",
        "       '&itmsNm=미디어젠'\n",
        "       '&pageNo=1'\n",
        "       '&numOfRows=1' # 하루만\n",
        "       '&serviceKey=miH%2BZXg85lQy4%2FkmhffvygXDIFiTwisriSLxtyECSzw6hxTVK7yI8QKIOc7mP7LEqCnhBGuj6iW1gZW65dum7A%3D%3D')\n",
        "\n",
        "response = requests.get(URL)"
      ],
      "metadata": {
        "id": "lHHEwqpyJF7r"
      },
      "execution_count": 14,
      "outputs": []
    },
    {
      "cell_type": "markdown",
      "source": [
        "#### http://jsonviewer.stack.hu/ (copy json here to view json)"
      ],
      "metadata": {
        "id": "faIENRyFfnY1"
      }
    },
    {
      "cell_type": "code",
      "source": [
        "r = response.json() # response.text\n",
        "r"
      ],
      "metadata": {
        "id": "JcLKwg0foR9p",
        "outputId": "44f5acf0-666a-4b7d-ba9b-df94d65f3d61",
        "colab": {
          "base_uri": "https://localhost:8080/"
        }
      },
      "execution_count": 15,
      "outputs": [
        {
          "output_type": "execute_result",
          "data": {
            "text/plain": [
              "{'response': {'body': {'items': {'item': [{'basDt': '20220331',\n",
              "      'clpr': '12650',\n",
              "      'fltRt': '0',\n",
              "      'hipr': '12700',\n",
              "      'isinCd': 'KR7279600001',\n",
              "      'itmsNm': '미디어젠',\n",
              "      'lopr': '12450',\n",
              "      'lstgStCnt': '4684781',\n",
              "      'mkp': '12650',\n",
              "      'mrktCtg': 'KOSDAQ',\n",
              "      'mrktTotAmt': '59262479650',\n",
              "      'srtnCd': '279600',\n",
              "      'trPrc': '100745550',\n",
              "      'trqu': '8012',\n",
              "      'vs': '0'}]},\n",
              "   'numOfRows': 1,\n",
              "   'pageNo': 1,\n",
              "   'totalCount': 555},\n",
              "  'header': {'resultCode': '00', 'resultMsg': 'NORMAL SERVICE.'}}}"
            ]
          },
          "metadata": {},
          "execution_count": 15
        }
      ]
    },
    {
      "cell_type": "code",
      "source": [
        "items = r['response']['body']['items']\n",
        "items"
      ],
      "metadata": {
        "id": "4qCP9KaScnZa",
        "outputId": "566f41e2-7bda-487b-c97d-c7cb00f0c4a0",
        "colab": {
          "base_uri": "https://localhost:8080/"
        }
      },
      "execution_count": 16,
      "outputs": [
        {
          "output_type": "execute_result",
          "data": {
            "text/plain": [
              "{'item': [{'basDt': '20220331',\n",
              "   'clpr': '12650',\n",
              "   'fltRt': '0',\n",
              "   'hipr': '12700',\n",
              "   'isinCd': 'KR7279600001',\n",
              "   'itmsNm': '미디어젠',\n",
              "   'lopr': '12450',\n",
              "   'lstgStCnt': '4684781',\n",
              "   'mkp': '12650',\n",
              "   'mrktCtg': 'KOSDAQ',\n",
              "   'mrktTotAmt': '59262479650',\n",
              "   'srtnCd': '279600',\n",
              "   'trPrc': '100745550',\n",
              "   'trqu': '8012',\n",
              "   'vs': '0'}]}"
            ]
          },
          "metadata": {},
          "execution_count": 16
        }
      ]
    },
    {
      "cell_type": "code",
      "source": [
        "items = r['response']['body']['items']\n",
        "\n",
        "cityName = [item['cityName'] for item in items]\n",
        "pm10Value = [item['pm10Value'] for item in items]\n",
        "pm25Value = [item['pm25Value'] for item in items]\n",
        "so2Value = [item['so2Value'] for item in items]\n",
        "coValue = [item['coValue'] for item in items]\n",
        "o3Value = [item['o3Value'] for item in items]\n",
        "no2Value = [item['no2Value'] for item in items]\n",
        "\n",
        "cityName = pd.Series(cityName)\n",
        "pm10Value = pd.Series(pm10Value)   \n",
        "pm25Value = pd.Series(pm25Value)\n",
        "so2Value = pd.Series(so2Value)\n",
        "coValue = pd.Series(coValue)\n",
        "o3Value = pd.Series(o3Value)\n",
        "no2Value = pd.Series(no2Value)\n",
        "\n",
        "df = pd.DataFrame({ 'cityName': cityName, 'pm10Value': pm10Value, 'pm25Value': pm25Value, 'so2Value': so2Value, 'coValue': coValue, 'o3Value': o3Value, 'no2Value': no2Value})"
      ],
      "metadata": {
        "id": "W8lA0-IzE55W",
        "outputId": "ca1fa015-794e-4938-f038-39fccb82f5e3",
        "colab": {
          "base_uri": "https://localhost:8080/",
          "height": 357
        }
      },
      "execution_count": 17,
      "outputs": [
        {
          "output_type": "error",
          "ename": "TypeError",
          "evalue": "ignored",
          "traceback": [
            "\u001b[0;31m---------------------------------------------------------------------------\u001b[0m",
            "\u001b[0;31mTypeError\u001b[0m                                 Traceback (most recent call last)",
            "\u001b[0;32m<ipython-input-17-f95f5e0087d1>\u001b[0m in \u001b[0;36m<module>\u001b[0;34m()\u001b[0m\n\u001b[1;32m      1\u001b[0m \u001b[0mitems\u001b[0m \u001b[0;34m=\u001b[0m \u001b[0mr\u001b[0m\u001b[0;34m[\u001b[0m\u001b[0;34m'response'\u001b[0m\u001b[0;34m]\u001b[0m\u001b[0;34m[\u001b[0m\u001b[0;34m'body'\u001b[0m\u001b[0;34m]\u001b[0m\u001b[0;34m[\u001b[0m\u001b[0;34m'items'\u001b[0m\u001b[0;34m]\u001b[0m\u001b[0;34m\u001b[0m\u001b[0;34m\u001b[0m\u001b[0m\n\u001b[1;32m      2\u001b[0m \u001b[0;34m\u001b[0m\u001b[0m\n\u001b[0;32m----> 3\u001b[0;31m \u001b[0mcityName\u001b[0m \u001b[0;34m=\u001b[0m \u001b[0;34m[\u001b[0m\u001b[0mitem\u001b[0m\u001b[0;34m[\u001b[0m\u001b[0;34m'cityName'\u001b[0m\u001b[0;34m]\u001b[0m \u001b[0;32mfor\u001b[0m \u001b[0mitem\u001b[0m \u001b[0;32min\u001b[0m \u001b[0mitems\u001b[0m\u001b[0;34m]\u001b[0m\u001b[0;34m\u001b[0m\u001b[0;34m\u001b[0m\u001b[0m\n\u001b[0m\u001b[1;32m      4\u001b[0m \u001b[0mpm10Value\u001b[0m \u001b[0;34m=\u001b[0m \u001b[0;34m[\u001b[0m\u001b[0mitem\u001b[0m\u001b[0;34m[\u001b[0m\u001b[0;34m'pm10Value'\u001b[0m\u001b[0;34m]\u001b[0m \u001b[0;32mfor\u001b[0m \u001b[0mitem\u001b[0m \u001b[0;32min\u001b[0m \u001b[0mitems\u001b[0m\u001b[0;34m]\u001b[0m\u001b[0;34m\u001b[0m\u001b[0;34m\u001b[0m\u001b[0m\n\u001b[1;32m      5\u001b[0m \u001b[0mpm25Value\u001b[0m \u001b[0;34m=\u001b[0m \u001b[0;34m[\u001b[0m\u001b[0mitem\u001b[0m\u001b[0;34m[\u001b[0m\u001b[0;34m'pm25Value'\u001b[0m\u001b[0;34m]\u001b[0m \u001b[0;32mfor\u001b[0m \u001b[0mitem\u001b[0m \u001b[0;32min\u001b[0m \u001b[0mitems\u001b[0m\u001b[0;34m]\u001b[0m\u001b[0;34m\u001b[0m\u001b[0;34m\u001b[0m\u001b[0m\n",
            "\u001b[0;32m<ipython-input-17-f95f5e0087d1>\u001b[0m in \u001b[0;36m<listcomp>\u001b[0;34m(.0)\u001b[0m\n\u001b[1;32m      1\u001b[0m \u001b[0mitems\u001b[0m \u001b[0;34m=\u001b[0m \u001b[0mr\u001b[0m\u001b[0;34m[\u001b[0m\u001b[0;34m'response'\u001b[0m\u001b[0;34m]\u001b[0m\u001b[0;34m[\u001b[0m\u001b[0;34m'body'\u001b[0m\u001b[0;34m]\u001b[0m\u001b[0;34m[\u001b[0m\u001b[0;34m'items'\u001b[0m\u001b[0;34m]\u001b[0m\u001b[0;34m\u001b[0m\u001b[0;34m\u001b[0m\u001b[0m\n\u001b[1;32m      2\u001b[0m \u001b[0;34m\u001b[0m\u001b[0m\n\u001b[0;32m----> 3\u001b[0;31m \u001b[0mcityName\u001b[0m \u001b[0;34m=\u001b[0m \u001b[0;34m[\u001b[0m\u001b[0mitem\u001b[0m\u001b[0;34m[\u001b[0m\u001b[0;34m'cityName'\u001b[0m\u001b[0;34m]\u001b[0m \u001b[0;32mfor\u001b[0m \u001b[0mitem\u001b[0m \u001b[0;32min\u001b[0m \u001b[0mitems\u001b[0m\u001b[0;34m]\u001b[0m\u001b[0;34m\u001b[0m\u001b[0;34m\u001b[0m\u001b[0m\n\u001b[0m\u001b[1;32m      4\u001b[0m \u001b[0mpm10Value\u001b[0m \u001b[0;34m=\u001b[0m \u001b[0;34m[\u001b[0m\u001b[0mitem\u001b[0m\u001b[0;34m[\u001b[0m\u001b[0;34m'pm10Value'\u001b[0m\u001b[0;34m]\u001b[0m \u001b[0;32mfor\u001b[0m \u001b[0mitem\u001b[0m \u001b[0;32min\u001b[0m \u001b[0mitems\u001b[0m\u001b[0;34m]\u001b[0m\u001b[0;34m\u001b[0m\u001b[0;34m\u001b[0m\u001b[0m\n\u001b[1;32m      5\u001b[0m \u001b[0mpm25Value\u001b[0m \u001b[0;34m=\u001b[0m \u001b[0;34m[\u001b[0m\u001b[0mitem\u001b[0m\u001b[0;34m[\u001b[0m\u001b[0;34m'pm25Value'\u001b[0m\u001b[0;34m]\u001b[0m \u001b[0;32mfor\u001b[0m \u001b[0mitem\u001b[0m \u001b[0;32min\u001b[0m \u001b[0mitems\u001b[0m\u001b[0;34m]\u001b[0m\u001b[0;34m\u001b[0m\u001b[0;34m\u001b[0m\u001b[0m\n",
            "\u001b[0;31mTypeError\u001b[0m: string indices must be integers"
          ]
        }
      ]
    },
    {
      "cell_type": "code",
      "source": [
        "def test(query):\n",
        "  URL = ('https://api.odcloud.kr/api/GetStockSecuritiesInfoService/v1/getStockPriceInfo?'\n",
        "        'resultType=json'\n",
        "        '&serviceKey=miH%2BZXg85lQy4%2FkmhffvygXDIFiTwisriSLxtyECSzw6hxTVK7yI8QKIOc7mP7LEqCnhBGuj6iW1gZW65dum7A%3D%3D')\n",
        "  \n",
        "  response = requests.get(URL)\n",
        "  r = response.json()\n",
        "  # items = r['response']['body']['items']\n",
        "\n",
        "  # # cityName = [item['cityName'] for item in items]\n",
        "  # # pm10Value = [item['pm10Value'] for item in items]\n",
        "  # # pm25Value = [item['pm25Value'] for item in items]\n",
        "  # # so2Value = [item['so2Value'] for item in items]\n",
        "  # # coValue = [item['coValue'] for item in items]\n",
        "  # # o3Value = [item['o3Value'] for item in items]\n",
        "  # # no2Value = [item['no2Value'] for item in items]\n",
        "\n",
        "  # # cityName = pd.Series(cityName)\n",
        "  # # pm10Value = pd.Series(pm10Value)   \n",
        "  # # pm25Value = pd.Series(pm25Value)\n",
        "  # # so2Value = pd.Series(so2Value)\n",
        "  # # coValue = pd.Series(coValue)\n",
        "  # # o3Value = pd.Series(o3Value)\n",
        "  # # no2Value = pd.Series(no2Value)\n",
        "\n",
        "  # df = pd.DataFrame({ 'cityName': cityName, 'pm10Value': pm10Value, 'pm25Value': pm25Value, 'so2Value': so2Value, 'coValue': coValue, 'o3Value': o3Value, 'no2Value': no2Value})\n",
        "  return r"
      ],
      "metadata": {
        "id": "xa2Gb_qsm_G5"
      },
      "execution_count": 4,
      "outputs": []
    },
    {
      "cell_type": "code",
      "source": [
        "iface = gr.Interface(test, inputs = 'text', outputs=['json'])\n",
        "iface.launch(debug=True)"
      ],
      "metadata": {
        "id": "kxORJVPOnDSP",
        "outputId": "a0e55824-3f95-460f-aad7-59dcdcd852bf",
        "colab": {
          "base_uri": "https://localhost:8080/",
          "height": 660
        }
      },
      "execution_count": 5,
      "outputs": [
        {
          "output_type": "stream",
          "name": "stdout",
          "text": [
            "Colab notebook detected. This cell will run indefinitely so that you can see errors and logs. To turn off, set debug=False in launch().\n",
            "Running on public URL: https://13083.gradio.app\n",
            "\n",
            "This share link expires in 72 hours. For free permanent hosting, check out Spaces (https://huggingface.co/spaces)\n"
          ]
        },
        {
          "output_type": "display_data",
          "data": {
            "text/plain": [
              "<IPython.lib.display.IFrame at 0x7f3d71d10ad0>"
            ],
            "text/html": [
              "\n",
              "        <iframe\n",
              "            width=\"900\"\n",
              "            height=\"500\"\n",
              "            src=\"https://13083.gradio.app\"\n",
              "            frameborder=\"0\"\n",
              "            allowfullscreen\n",
              "        ></iframe>\n",
              "        "
            ]
          },
          "metadata": {}
        },
        {
          "output_type": "stream",
          "name": "stdout",
          "text": [
            "Keyboard interruption in main thread... closing server.\n"
          ]
        },
        {
          "output_type": "execute_result",
          "data": {
            "text/plain": [
              "(<fastapi.applications.FastAPI at 0x7f3d7a977350>,\n",
              " 'http://127.0.0.1:7860/',\n",
              " 'https://13083.gradio.app')"
            ]
          },
          "metadata": {},
          "execution_count": 5
        }
      ]
    }
  ]
}