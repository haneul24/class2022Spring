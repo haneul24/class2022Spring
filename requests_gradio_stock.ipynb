{
  "nbformat": 4,
  "nbformat_minor": 0,
  "metadata": {
    "colab": {
      "name": "requests_gradio_stock.ipynb",
      "provenance": [],
      "authorship_tag": "ABX9TyMl1VSBm3NSb/EVgXS0pZgf",
      "include_colab_link": true
    },
    "kernelspec": {
      "name": "python3",
      "display_name": "Python 3"
    },
    "language_info": {
      "name": "python"
    }
  },
  "cells": [
    {
      "cell_type": "markdown",
      "metadata": {
        "id": "view-in-github",
        "colab_type": "text"
      },
      "source": [
        "<a href=\"https://colab.research.google.com/github/hsnam95/class2022Spring/blob/main/requests_gradio_stock.ipynb\" target=\"_parent\"><img src=\"https://colab.research.google.com/assets/colab-badge.svg\" alt=\"Open In Colab\"/></a>"
      ]
    },
    {
      "cell_type": "code",
      "source": [
        "!pip install gradio\n",
        "import gradio as gr\n",
        "import requests\n",
        "import pandas as pd"
      ],
      "metadata": {
        "id": "8eZHGJhmqd9a"
      },
      "execution_count": null,
      "outputs": []
    },
    {
      "cell_type": "markdown",
      "source": [
        "basDt - 검색값과 기준일자가 일치하는 데이터를 검색 e.g. 20220331\n",
        "\n",
        "beginBasDt - 기준일자가 검색값보다 크거나 같은 데이터를 검색\n",
        "\n",
        "endBasDt - 기준일자가 검색값보다 작은 데이터를 검색\n",
        "\n",
        "likeBasDt - 기준일자값이 검색값을 포함하는 데이터를 검색\n",
        "\n",
        "likeSrtnCd - 단축코드가 검색값을 포함하는 데이터를 검색 e.g. 279600\n",
        "\n",
        "isinCd - 검색값과 ISIN코드이 일치하는 데이터를 검색 e.g. KR7279600001\n",
        "\n",
        "likeIsinCd - ISIN코드가 검색값을 포함하는 데이터를 검색\n",
        "\n",
        "itmsNm - 검색값과 종목명이 일치하는 데이터를 검색 e.g. 미디어젠\n",
        "\n",
        "likeItmsNm - 종목명이 검색값을 포함하는 데이터를 검색\n",
        "\n",
        "mrktCls - 검색값과 시장구분이 일치하는 데이터를 검색 e.g. KOSDAQ\n",
        "\n",
        "beginVs - 대비가 검색값보다 크거나 같은 데이터를 검색 e.g. 0\n",
        "\n",
        "endVs - 대비가 검색값보다 작은 데이터를 검색\n",
        "\n",
        "beginFltRt - 등락률이 검색값보다 크거나 같은 데이터를 검색 e.g. 0\n",
        "\n",
        "endFltRt - 등락률이 검색값보다 작은 데이터를 검색\n",
        "\n",
        "beginTrqu - 거래량이 검색값보다 크거나 같은 데이터를 검색 e.g. 8012\n",
        "\n",
        "endTrqu - 거래량이 검색값보다 작은 데이터를 검색\n",
        "\n",
        "beginTrPrc - 거래대금이 검색값보다 크거나 같은 데이터를 검색 e.g. 100745550\n",
        "\n",
        "endTrPrc - 거래대금이 검색값보다 작은 데이터를 검색\n",
        "\n",
        "beginLstgStCnt - 상장주식수가 검색값보다 크거나 같은 데이터를 검색 e.g. 4684781\n",
        "\n",
        "endLstgStCnt - 상장주식수가 검색값보다 작은 데이터를 검색\n",
        "\n",
        "beginMrktTotAmt - 시가총액이 검색값보다 크거나 같은 데이터를 검색 e.g. 59262479650\n",
        "\n",
        "endMrktTotAmt - 시가총액이 검색값보다 작은 데이터를 검색\n",
        "\n",
        "{'response': {'body': {'items': {'item': [{'basDt': '20220331',\n",
        "      'clpr': '12650',\n",
        "      'fltRt': '0',\n",
        "      'hipr': '12700',\n",
        "      'isinCd': 'KR7279600001',\n",
        "      'itmsNm': '미디어젠',\n",
        "      'lopr': '12450',\n",
        "      'lstgStCnt': '4684781',\n",
        "      'mkp': '12650',\n",
        "      'mrktCtg': 'KOSDAQ',\n",
        "      'mrktTotAmt': '59262479650',\n",
        "      'srtnCd': '279600',\n",
        "      'trPrc': '100745550',\n",
        "      'trqu': '8012',\n",
        "      'vs': '0'}]},\n",
        "   'numOfRows': 1,\n",
        "   'pageNo': 1,\n",
        "   'totalCount': 555},\n",
        "   'header': {'resultCode': '00', 'resultMsg': 'NORMAL SERVICE.'}}}"
      ],
      "metadata": {
        "id": "Q-E9fxG15WQO"
      }
    },
    {
      "cell_type": "code",
      "source": [
        "itmsNm = '미디어젠'\n",
        "URL = ('https://api.odcloud.kr/api/GetStockSecuritiesInfoService/v1/getStockPriceInfo?'\n",
        "      'resultType=json'\n",
        "      '&itmsNm='+itmsNm+''\n",
        "      '&pageNo=1'\n",
        "      '&numOfRows=1' # 하루만\n",
        "      '&serviceKey=miH%2BZXg85lQy4%2FkmhffvygXDIFiTwisriSLxtyECSzw6hxTVK7yI8QKIOc7mP7LEqCnhBGuj6iW1gZW65dum7A%3D%3D')\n",
        "\n",
        "response = requests.get(URL)"
      ],
      "metadata": {
        "id": "lHHEwqpyJF7r"
      },
      "execution_count": 27,
      "outputs": []
    },
    {
      "cell_type": "markdown",
      "source": [
        "#### http://jsonviewer.stack.hu/ (copy json here to view json)"
      ],
      "metadata": {
        "id": "faIENRyFfnY1"
      }
    },
    {
      "cell_type": "code",
      "source": [
        "r = response.json() # response.text\n",
        "r"
      ],
      "metadata": {
        "id": "JcLKwg0foR9p",
        "colab": {
          "base_uri": "https://localhost:8080/"
        },
        "outputId": "2744b82a-3f6e-45aa-f96c-6b40210cd9e2"
      },
      "execution_count": 31,
      "outputs": [
        {
          "output_type": "execute_result",
          "data": {
            "text/plain": [
              "{'response': {'body': {'items': {'item': [{'basDt': '20220331',\n",
              "      'clpr': '12650',\n",
              "      'fltRt': '0',\n",
              "      'hipr': '12700',\n",
              "      'isinCd': 'KR7279600001',\n",
              "      'itmsNm': '미디어젠',\n",
              "      'lopr': '12450',\n",
              "      'lstgStCnt': '4684781',\n",
              "      'mkp': '12650',\n",
              "      'mrktCtg': 'KOSDAQ',\n",
              "      'mrktTotAmt': '59262479650',\n",
              "      'srtnCd': '279600',\n",
              "      'trPrc': '100745550',\n",
              "      'trqu': '8012',\n",
              "      'vs': '0'}]},\n",
              "   'numOfRows': 1,\n",
              "   'pageNo': 1,\n",
              "   'totalCount': 555},\n",
              "  'header': {'resultCode': '00', 'resultMsg': 'NORMAL SERVICE.'}}}"
            ]
          },
          "metadata": {},
          "execution_count": 31
        }
      ]
    },
    {
      "cell_type": "code",
      "source": [
        "item = r['response']['body']['items']['item']\n",
        "\n",
        "clpr = [x['clpr'] for x in item]\n",
        "hipr = [x['hipr'] for x in item]\n",
        "lopr = [x['lopr'] for x in item]\n",
        "srtnCd = [x['srtnCd'] for x in item]\n",
        "mrktTotAmt = [x['mrktTotAmt'] for x in item]\n",
        "mrktCtg = [x['mrktCtg'] for x in item]\n",
        "lstgStCnt = [x['lstgStCnt'] for x in item]\n",
        "\n",
        "clpr = pd.Series(clpr)\n",
        "hipr = pd.Series(hipr)   \n",
        "lopr = pd.Series(lopr)\n",
        "srtnCd = pd.Series(srtnCd)\n",
        "mrktTotAmt = pd.Series(mrktTotAmt)\n",
        "mrktCtg = pd.Series(mrktCtg)\n",
        "lstgStCnt = pd.Series(lstgStCnt)\n",
        "\n",
        "df = pd.DataFrame({ '최종가': clpr, '최고가': hipr, '최저가': lopr, '종목코드': srtnCd, '주가총액': mrktTotAmt, '종목': mrktCtg, '상장주식수': lstgStCnt})"
      ],
      "metadata": {
        "id": "W8lA0-IzE55W"
      },
      "execution_count": 23,
      "outputs": []
    },
    {
      "cell_type": "code",
      "source": [
        "def test(itmsNm):\n",
        "  URL = ('https://api.odcloud.kr/api/GetStockSecuritiesInfoService/v1/getStockPriceInfo?'\n",
        "        'resultType=json'\n",
        "        '&itmsNm='+itmsNm+''\n",
        "        '&pageNo=1'\n",
        "        '&numOfRows=1' # 하루만\n",
        "        '&serviceKey=miH%2BZXg85lQy4%2FkmhffvygXDIFiTwisriSLxtyECSzw6hxTVK7yI8QKIOc7mP7LEqCnhBGuj6iW1gZW65dum7A%3D%3D')\n",
        "  \n",
        "  response = requests.get(URL)\n",
        "  r = response.json()\n",
        "\n",
        "  return df"
      ],
      "metadata": {
        "id": "xa2Gb_qsm_G5"
      },
      "execution_count": 28,
      "outputs": []
    },
    {
      "cell_type": "code",
      "source": [
        "iface = gr.Interface(test, inputs = 'text', outputs='dataframe')\n",
        "iface.launch(debug=True)"
      ],
      "metadata": {
        "id": "kxORJVPOnDSP",
        "outputId": "69f3d6ef-c482-4f5e-a8b1-87431483030e",
        "colab": {
          "base_uri": "https://localhost:8080/",
          "height": 663
        }
      },
      "execution_count": 30,
      "outputs": [
        {
          "output_type": "stream",
          "name": "stdout",
          "text": [
            "Colab notebook detected. This cell will run indefinitely so that you can see errors and logs. To turn off, set debug=False in launch().\n",
            "Running on public URL: https://30834.gradio.app\n",
            "\n",
            "This share link expires in 72 hours. For free permanent hosting, check out Spaces (https://huggingface.co/spaces)\n"
          ]
        },
        {
          "output_type": "display_data",
          "data": {
            "text/plain": [
              "<IPython.lib.display.IFrame at 0x7f6c7576a350>"
            ],
            "text/html": [
              "\n",
              "        <iframe\n",
              "            width=\"900\"\n",
              "            height=\"500\"\n",
              "            src=\"https://30834.gradio.app\"\n",
              "            frameborder=\"0\"\n",
              "            allowfullscreen\n",
              "        ></iframe>\n",
              "        "
            ]
          },
          "metadata": {}
        },
        {
          "output_type": "stream",
          "name": "stdout",
          "text": [
            "Keyboard interruption in main thread... closing server.\n"
          ]
        },
        {
          "output_type": "execute_result",
          "data": {
            "text/plain": [
              "(<fastapi.applications.FastAPI at 0x7f6c816fd5d0>,\n",
              " 'http://127.0.0.1:7861/',\n",
              " 'https://30834.gradio.app')"
            ]
          },
          "metadata": {},
          "execution_count": 30
        }
      ]
    }
  ]
}