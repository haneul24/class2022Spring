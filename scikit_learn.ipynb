{
  "nbformat": 4,
  "nbformat_minor": 0,
  "metadata": {
    "colab": {
      "name": "scikit_learn.ipynb",
      "provenance": [],
      "authorship_tag": "ABX9TyN6o2DBkLP9g6Jx7gye91D5",
      "include_colab_link": true
    },
    "kernelspec": {
      "name": "python3",
      "display_name": "Python 3"
    },
    "language_info": {
      "name": "python"
    }
  },
  "cells": [
    {
      "cell_type": "markdown",
      "metadata": {
        "id": "view-in-github",
        "colab_type": "text"
      },
      "source": [
        "<a href=\"https://colab.research.google.com/github/hsnam95/class2022Spring/blob/main/scikit_learn.ipynb\" target=\"_parent\"><img src=\"https://colab.research.google.com/assets/colab-badge.svg\" alt=\"Open In Colab\"/></a>"
      ]
    },
    {
      "cell_type": "markdown",
      "source": [
        "# Scikit-Learn for machine learning"
      ],
      "metadata": {
        "id": "IxKzJrcGnYPf"
      }
    },
    {
      "cell_type": "markdown",
      "source": [
        "### Understanding iris data"
      ],
      "metadata": {
        "id": "sbpiSzqtESUl"
      }
    },
    {
      "cell_type": "code",
      "execution_count": 1,
      "metadata": {
        "id": "VTckSBPVR8l-"
      },
      "outputs": [],
      "source": [
        "import seaborn as sns\n",
        "df = sns.load_dataset('iris')"
      ]
    },
    {
      "cell_type": "code",
      "source": [
        "type(df)"
      ],
      "metadata": {
        "id": "n0FdeK6lV-74"
      },
      "execution_count": null,
      "outputs": []
    },
    {
      "cell_type": "code",
      "source": [
        "df.head()"
      ],
      "metadata": {
        "id": "CPJe8HrvWDUZ"
      },
      "execution_count": null,
      "outputs": []
    },
    {
      "cell_type": "code",
      "source": [
        "df['species'].unique()"
      ],
      "metadata": {
        "id": "PTcz1g2Fe_p2"
      },
      "execution_count": null,
      "outputs": []
    },
    {
      "cell_type": "code",
      "source": [
        "sns.pairplot(df, hue='species')"
      ],
      "metadata": {
        "id": "rgOdNlVsSM2D"
      },
      "execution_count": null,
      "outputs": []
    },
    {
      "cell_type": "code",
      "source": [
        "x = list(df['sepal_length'])\n",
        "y = list(df['sepal_width'])\n",
        "\n",
        "import matplotlib.pyplot as plt\n",
        "plt.scatter(x, y);\n",
        "plt.xlabel('sepal_length')\n",
        "plt.ylabel('sepal_width')"
      ],
      "metadata": {
        "id": "3sJYzjGFSsA_"
      },
      "execution_count": null,
      "outputs": []
    },
    {
      "cell_type": "code",
      "source": [
        "df_setosa = df[df['species']=='setosa']\n",
        "x = list(df_setosa['sepal_length'])\n",
        "y = list(df_setosa['sepal_width'])\n",
        "plt.scatter(x, y);\n",
        "plt.xlabel('sepal_length')\n",
        "plt.ylabel('sepal_width')\n",
        "plt.title('setosa')"
      ],
      "metadata": {
        "id": "c08GEKAMAaAN"
      },
      "execution_count": null,
      "outputs": []
    },
    {
      "cell_type": "markdown",
      "source": [
        "### Supervised learning: regression (linear regression)"
      ],
      "metadata": {
        "id": "o_R4225zNy9C"
      }
    },
    {
      "cell_type": "code",
      "source": [
        "from sklearn.linear_model import LinearRegression"
      ],
      "metadata": {
        "id": "ziXdJ3kISvm9"
      },
      "execution_count": 41,
      "outputs": []
    },
    {
      "cell_type": "code",
      "source": [
        "model = LinearRegression(fit_intercept=True)"
      ],
      "metadata": {
        "id": "OlEh24crS0MS"
      },
      "execution_count": 42,
      "outputs": []
    },
    {
      "cell_type": "code",
      "source": [
        "import numpy as np\n",
        "x = np.array(x)\n",
        "y = np.array(y)"
      ],
      "metadata": {
        "id": "fAuGerI0Dk6X"
      },
      "execution_count": 43,
      "outputs": []
    },
    {
      "cell_type": "code",
      "source": [
        "X = x.reshape(-1, 1)\n",
        "X.shape"
      ],
      "metadata": {
        "id": "R5PRU9bKS6Ns"
      },
      "execution_count": null,
      "outputs": []
    },
    {
      "cell_type": "code",
      "source": [
        "model.fit(X, y)"
      ],
      "metadata": {
        "id": "3VVxgdS0S-P1"
      },
      "execution_count": null,
      "outputs": []
    },
    {
      "cell_type": "code",
      "source": [
        "model.coef_"
      ],
      "metadata": {
        "id": "A5EOsJApS_Sw"
      },
      "execution_count": null,
      "outputs": []
    },
    {
      "cell_type": "code",
      "source": [
        "model.intercept_"
      ],
      "metadata": {
        "id": "ZSEizxdHTBTB"
      },
      "execution_count": null,
      "outputs": []
    },
    {
      "cell_type": "code",
      "source": [
        "xfit = np.linspace(4, 6)"
      ],
      "metadata": {
        "id": "KlzB5PjLTDNb"
      },
      "execution_count": 49,
      "outputs": []
    },
    {
      "cell_type": "code",
      "source": [
        "Xfit = xfit.reshape(-1, 1)\n",
        "yfit = model.predict(Xfit)"
      ],
      "metadata": {
        "id": "SoDllK4qTMnV"
      },
      "execution_count": 50,
      "outputs": []
    },
    {
      "cell_type": "code",
      "source": [
        "plt.scatter(x, y)\n",
        "plt.plot(xfit, yfit);"
      ],
      "metadata": {
        "id": "mXs8kB6CTOgX"
      },
      "execution_count": null,
      "outputs": []
    },
    {
      "cell_type": "code",
      "source": [
        "df_setosa.corr()"
      ],
      "metadata": {
        "id": "k8c41V_RdHT9"
      },
      "execution_count": null,
      "outputs": []
    },
    {
      "cell_type": "markdown",
      "source": [
        "#### gradio implementation"
      ],
      "metadata": {
        "id": "KqnywMyyDheJ"
      }
    },
    {
      "cell_type": "code",
      "source": [
        "!pip install gradio\n",
        "import gradio as gr\n",
        "\n",
        "def test (x):\n",
        "  X = np.array(x).reshape(-1,1)\n",
        "  y = model.predict(X)\n",
        "  return y[0]\n",
        "\n",
        "iface = gr.Interface(test, inputs = [\"number\"], outputs = [\"text\"])\n",
        "iface.launch(debug=True)"
      ],
      "metadata": {
        "id": "TDC6zvjXBqSs"
      },
      "execution_count": null,
      "outputs": []
    },
    {
      "cell_type": "markdown",
      "source": [
        "### Supervised learning: classification (Naive Bayes)"
      ],
      "metadata": {
        "id": "8Ne8kMHdTY16"
      }
    },
    {
      "cell_type": "code",
      "source": [
        "x = df.drop('species', axis=1) # axis = 0 (delete row) / 1 (delete column)\n",
        "x.shape"
      ],
      "metadata": {
        "id": "byo-hbZaSQWR",
        "outputId": "7bb9ee9a-cfc8-4c67-ceaf-fc85b3c62059",
        "colab": {
          "base_uri": "https://localhost:8080/"
        }
      },
      "execution_count": 64,
      "outputs": [
        {
          "output_type": "execute_result",
          "data": {
            "text/plain": [
              "(150, 4)"
            ]
          },
          "metadata": {},
          "execution_count": 64
        }
      ]
    },
    {
      "cell_type": "code",
      "source": [
        "y = df['species']\n",
        "y.shape"
      ],
      "metadata": {
        "id": "jQapeC6-SQuQ",
        "outputId": "bfb048e3-9576-4bf5-8148-86b8d9c7f2a9",
        "colab": {
          "base_uri": "https://localhost:8080/"
        }
      },
      "execution_count": 65,
      "outputs": [
        {
          "output_type": "execute_result",
          "data": {
            "text/plain": [
              "(150,)"
            ]
          },
          "metadata": {},
          "execution_count": 65
        }
      ]
    },
    {
      "cell_type": "markdown",
      "source": [
        "![image.png](data:image/png;base64,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)"
      ],
      "metadata": {
        "id": "tOzDpPRbScK-"
      }
    },
    {
      "cell_type": "code",
      "execution_count": 4,
      "metadata": {
        "collapsed": true,
        "deletable": true,
        "editable": true,
        "id": "0VF2XL_zEE6t"
      },
      "outputs": [],
      "source": [
        "from sklearn.model_selection import train_test_split\n",
        "Xtrain, Xtest, ytrain, ytest = train_test_split(x, y)"
      ]
    },
    {
      "cell_type": "code",
      "execution_count": 9,
      "metadata": {
        "deletable": true,
        "editable": true,
        "id": "JTHRv7XTEE6u"
      },
      "outputs": [],
      "source": [
        "from sklearn.naive_bayes import GaussianNB # 1. choose model class\n",
        "model = GaussianNB()                       # 2. instantiate model\n",
        "model.fit(Xtrain, ytrain)                  # 3. fit model to data\n",
        "yout = model.predict(Xtest)                # 4. predict on new data"
      ]
    },
    {
      "cell_type": "code",
      "execution_count": null,
      "metadata": {
        "deletable": true,
        "editable": true,
        "id": "ok8uOoavEE6u"
      },
      "outputs": [],
      "source": [
        "from sklearn.metrics import accuracy_score\n",
        "accuracy_score(ytest, yout)"
      ]
    },
    {
      "cell_type": "markdown",
      "source": [
        "#### gradio implementation"
      ],
      "metadata": {
        "id": "Q70XBHpWDy3C"
      }
    },
    {
      "cell_type": "code",
      "source": [
        "import pandas as pd\n",
        "def test (in1, in2, in3, in4):\n",
        "  data = {'sepal_length': [in1],\n",
        "        'sepal_width': [in2],\n",
        "        'petal_length': [in3],\n",
        "        'petal_width': [in4]}\n",
        "  Xtest = pd.DataFrame(data)\n",
        "  yout = model.predict(Xtest)\n",
        "  return yout\n",
        "\n",
        "iface = gr.Interface(test, inputs = [\"number\", \"number\", \"number\", \"number\"], outputs = [\"text\"])\n",
        "iface.launch()"
      ],
      "metadata": {
        "id": "NIH6vp887PGR"
      },
      "execution_count": null,
      "outputs": []
    },
    {
      "cell_type": "markdown",
      "source": [
        "### Unsupervised learning: dimensionality (PCA)"
      ],
      "metadata": {
        "id": "pIBQnNl6MZhX"
      }
    },
    {
      "cell_type": "code",
      "source": [
        "from sklearn.decomposition import PCA  # 1. Choose the model class\n",
        "model = PCA(n_components=2)            # 2. Instantiate the model with hyperparameters\n",
        "model.fit(x)                           # 3. Fit to data. Notice y is not specified!\n",
        "X_2D = model.transform(x)  "
      ],
      "metadata": {
        "id": "6QYPe6HqMa1b"
      },
      "execution_count": 66,
      "outputs": []
    },
    {
      "cell_type": "code",
      "source": [
        "df['PCA1'] = X_2D[:, 0]\n",
        "df['PCA2'] = X_2D[:, 1]\n",
        "sns.lmplot(\"PCA1\", \"PCA2\", hue='species', data=df, fit_reg=False);"
      ],
      "metadata": {
        "id": "4Xq9scEMMeZS",
        "outputId": "dba6b7ec-2758-4362-e9a5-756adc46baae",
        "colab": {
          "base_uri": "https://localhost:8080/",
          "height": 424
        }
      },
      "execution_count": 67,
      "outputs": [
        {
          "output_type": "stream",
          "name": "stderr",
          "text": [
            "/usr/local/lib/python3.7/dist-packages/seaborn/_decorators.py:43: FutureWarning: Pass the following variables as keyword args: x, y. From version 0.12, the only valid positional argument will be `data`, and passing other arguments without an explicit keyword will result in an error or misinterpretation.\n",
            "  FutureWarning\n"
          ]
        },
        {
          "output_type": "display_data",
          "data": {
            "text/plain": [
              "<Figure size 444.75x360 with 1 Axes>"
            ],
            "image/png": "[encoded data removed]"
          },
          "metadata": {
            "needs_background": "light"
          }
        }
      ]
    },
    {
      "cell_type": "markdown",
      "source": [
        "#### gradio implementation"
      ],
      "metadata": {
        "id": "OHD08F7JD3cS"
      }
    },
    {
      "cell_type": "markdown",
      "source": [
        "### Unsupervised learning: clustering (GMM)"
      ],
      "metadata": {
        "id": "qKWild17NX42"
      }
    },
    {
      "cell_type": "code",
      "source": [
        "from sklearn.mixture import GaussianMixture as GMM   # 1. Choose the model class\n",
        "model = GMM(n_components=3, covariance_type='full')  # 2. Instantiate the model with hyperparameters\n",
        "model.fit(x)                                         # 3. Fit to data. Notice y is not specified!\n",
        "y_gmm = model.predict(x)                             # 4. Determine cluster labels"
      ],
      "metadata": {
        "id": "I6xITC-GNYSY"
      },
      "execution_count": null,
      "outputs": []
    },
    {
      "cell_type": "code",
      "source": [
        "df['cluster'] = y_gmm\n",
        "sns.lmplot(\"PCA1\", \"PCA2\", data=df, hue='species', col='cluster', fit_reg=False);"
      ],
      "metadata": {
        "id": "2zZvlx9yO30K"
      },
      "execution_count": null,
      "outputs": []
    }
  ]
}